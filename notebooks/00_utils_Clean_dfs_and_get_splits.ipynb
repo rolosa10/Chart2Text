{
 "cells": [
  {
   "cell_type": "code",
   "execution_count": 5,
   "id": "e40c134d",
   "metadata": {},
   "outputs": [],
   "source": [
    "import pandas as pd\n",
    "import numpy as np\n",
    "from glob import glob\n",
    "import re"
   ]
  },
  {
   "cell_type": "code",
   "execution_count": 9,
   "id": "670795ec",
   "metadata": {},
   "outputs": [
    {
     "name": "stderr",
     "output_type": "stream",
     "text": [
      "C:\\Users\\rlope\\anaconda3\\envs\\cbank_env\\lib\\site-packages\\ipykernel_launcher.py:14: SettingWithCopyWarning: \n",
      "A value is trying to be set on a copy of a slice from a DataFrame\n",
      "\n",
      "See the caveats in the documentation: https://pandas.pydata.org/pandas-docs/stable/user_guide/indexing.html#returning-a-view-versus-a-copy\n",
      "  \n",
      "C:\\Users\\rlope\\anaconda3\\envs\\cbank_env\\lib\\site-packages\\pandas\\core\\indexing.py:670: SettingWithCopyWarning: \n",
      "A value is trying to be set on a copy of a slice from a DataFrame\n",
      "\n",
      "See the caveats in the documentation: https://pandas.pydata.org/pandas-docs/stable/user_guide/indexing.html#returning-a-view-versus-a-copy\n",
      "  iloc._setitem_with_indexer(indexer, value)\n",
      "C:\\Users\\rlope\\anaconda3\\envs\\cbank_env\\lib\\site-packages\\ipykernel_launcher.py:15: SettingWithCopyWarning: \n",
      "A value is trying to be set on a copy of a slice from a DataFrame\n",
      "\n",
      "See the caveats in the documentation: https://pandas.pydata.org/pandas-docs/stable/user_guide/indexing.html#returning-a-view-versus-a-copy\n",
      "  from ipykernel import kernelapp as app\n"
     ]
    }
   ],
   "source": [
    "df1_bar = pd.read_json('../dataset/Scatter1.json')\n",
    "#df2_bar = pd.read_json('../dataset/BarPlot2.json')\n",
    "#df_bar = df1_bar.append(df2_bar).reset_index().drop(columns=['index'])\n",
    "df_bar = df1_bar\n",
    "\n",
    "df_bar['data_split'] = np.nan\n",
    "df_bar['graph_dir'] = np.nan\n",
    "\n",
    "folder_types = ['train','test','validation']\n",
    "for folder_type in folder_types: \n",
    "    charts_in_folder_type = glob('../dataset/'+folder_type+'/scatterplot/*.png')\n",
    "    for chart in charts_in_folder_type: \n",
    "        chart_index = int(re.findall(r'[0-9]+',chart.split('\\\\')[-1].split('.')[0])[0])\n",
    "        df_bar['data_split'][chart_index] = folder_type\n",
    "        df_bar['graph_dir'][chart_index] = chart       \n",
    "        \n",
    "df_bar.to_csv('../dataset/v0_Scatter_splitted.csv')"
   ]
  },
  {
   "cell_type": "code",
   "execution_count": null,
   "id": "0efdb212",
   "metadata": {},
   "outputs": [],
   "source": []
  }
 ],
 "metadata": {
  "kernelspec": {
   "display_name": "Python 3 (ipykernel)",
   "language": "python",
   "name": "python3"
  },
  "language_info": {
   "codemirror_mode": {
    "name": "ipython",
    "version": 3
   },
   "file_extension": ".py",
   "mimetype": "text/x-python",
   "name": "python",
   "nbconvert_exporter": "python",
   "pygments_lexer": "ipython3",
   "version": "3.7.0"
  }
 },
 "nbformat": 4,
 "nbformat_minor": 5
}
