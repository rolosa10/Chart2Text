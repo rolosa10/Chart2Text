{
 "cells": [
  {
   "cell_type": "markdown",
   "id": "64e2132c",
   "metadata": {},
   "source": [
    "### Imports "
   ]
  },
  {
   "cell_type": "code",
   "execution_count": 1,
   "id": "fbc6b6a2",
   "metadata": {},
   "outputs": [],
   "source": [
    "import pandas as pd\n",
    "from glob import glob\n",
    "import shutil\n",
    "import tensorflow as tf\n",
    "import cv2\n",
    "from matplotlib import pyplot as plt\n",
    "import random\n",
    "import os\n",
    "import numpy as np\n",
    "from tensorflow.keras.preprocessing import image_dataset_from_directory\n",
    "from tensorflow.keras.layers import Dense, Input, Dropout\n",
    "from tensorflow.keras.models import Model\n",
    "from tensorflow.keras import applications\n",
    "from sklearn.metrics import accuracy_score"
   ]
  },
  {
   "cell_type": "code",
   "execution_count": 2,
   "id": "6faac85a",
   "metadata": {},
   "outputs": [
    {
     "name": "stdout",
     "output_type": "stream",
     "text": [
      "Num GPUs Available:  1\n"
     ]
    }
   ],
   "source": [
    "print(\"Num GPUs Available: \", len(tf.config.list_physical_devices('GPU')))"
   ]
  },
  {
   "cell_type": "code",
   "execution_count": 3,
   "id": "3c3d455b",
   "metadata": {},
   "outputs": [
    {
     "data": {
      "text/plain": [
       "'2.3.0'"
      ]
     },
     "execution_count": 3,
     "metadata": {},
     "output_type": "execute_result"
    }
   ],
   "source": [
    "tf.__version__"
   ]
  },
  {
   "cell_type": "code",
   "execution_count": 4,
   "id": "0af4dcbc",
   "metadata": {},
   "outputs": [],
   "source": [
    "physical_devices = tf.config.list_physical_devices('GPU') \n",
    "for device in physical_devices:\n",
    "    tf.config.experimental.set_memory_growth(device, True)"
   ]
  },
  {
   "cell_type": "code",
   "execution_count": 5,
   "id": "f329eeeb",
   "metadata": {},
   "outputs": [
    {
     "data": {
      "text/plain": [
       "['barplot', 'lineplot', 'scatterplot']"
      ]
     },
     "execution_count": 5,
     "metadata": {},
     "output_type": "execute_result"
    }
   ],
   "source": [
    "os.listdir('../dataset/train/')"
   ]
  },
  {
   "cell_type": "markdown",
   "id": "0cf80316",
   "metadata": {},
   "source": [
    "### Load data"
   ]
  },
  {
   "cell_type": "code",
   "execution_count": 6,
   "id": "abd9fac3",
   "metadata": {},
   "outputs": [
    {
     "name": "stdout",
     "output_type": "stream",
     "text": [
      "Found 4503 files belonging to 3 classes.\n",
      "Found 600 files belonging to 3 classes.\n",
      "Found 900 files belonging to 3 classes.\n"
     ]
    }
   ],
   "source": [
    "train_dataset = image_dataset_from_directory('../dataset/train', \n",
    "                                            labels='inferred', \n",
    "                                            label_mode='categorical',\n",
    "                                            batch_size=64,\n",
    "                                            image_size=(224, 224))\n",
    "\n",
    "val_dataset = image_dataset_from_directory('../dataset/validation', \n",
    "                                          labels='inferred', \n",
    "                                          label_mode='categorical',\n",
    "                                          batch_size=64,\n",
    "                                          image_size=(224, 224))\n",
    "\n",
    "test_dataset = image_dataset_from_directory('../dataset/test', \n",
    "                                              labels='inferred', \n",
    "                                              label_mode='categorical',\n",
    "                                              batch_size=64,\n",
    "                                              image_size=(224, 224))"
   ]
  },
  {
   "cell_type": "markdown",
   "id": "6d3bdfa8",
   "metadata": {},
   "source": [
    "### Preprocess data"
   ]
  },
  {
   "cell_type": "code",
   "execution_count": 7,
   "id": "685b5b50",
   "metadata": {},
   "outputs": [
    {
     "name": "stdout",
     "output_type": "stream",
     "text": [
      "batch X shape (64, 224, 224, 3)\n",
      "batch y shape (64, 3)\n",
      "max 1.0  min 0.0\n"
     ]
    }
   ],
   "source": [
    "norm_layer = tf.keras.layers.experimental.preprocessing.Rescaling(1/255.)\n",
    "\n",
    "norm_train_dataset = train_dataset.map(lambda x, y: (norm_layer(x), y))\n",
    "norm_val_dataset = val_dataset.map(lambda x, y: (norm_layer(x), y))\n",
    "norm_test_dataset = test_dataset.map(lambda x, y: (norm_layer(x),y))\n",
    "\n",
    "for b_X, b_y in norm_train_dataset:\n",
    "    print('batch X shape', b_X.shape)\n",
    "    print('batch y shape', b_y.shape)\n",
    "    print(f'max {np.max(b_X[0])}  min {np.min(b_X[0])}')\n",
    "    break"
   ]
  },
  {
   "cell_type": "markdown",
   "id": "013eacb7",
   "metadata": {},
   "source": [
    "### Train Keras mobilenetv2"
   ]
  },
  {
   "cell_type": "code",
   "execution_count": 8,
   "id": "39a76a20",
   "metadata": {},
   "outputs": [],
   "source": [
    "def build_model( ):\n",
    "    input_tensor = Input(shape=(224, 224, 3))\n",
    "    base_model = applications.MobileNetV2(\n",
    "        include_top=False,\n",
    "        weights='imagenet',\n",
    "        input_tensor=input_tensor,\n",
    "        input_shape=(224, 224, 3),\n",
    "        pooling='avg')\n",
    "\n",
    "    for layer in base_model.layers:\n",
    "        layer.trainable = True  # trainable has to be false in order to freeze the layers\n",
    "        \n",
    "    # op = Dense(256, activation='relu')(base_model.output)\n",
    "    # op = Dropout(.25)(op)\n",
    "    # output_tensor = Dense(3, activation='softmax')(op)\n",
    "    # model = Model(inputs=input_tensor, outputs=output_tensor)\n",
    "    \n",
    "    output_tensor = Dense(3, activation='softmax')(base_model.output)\n",
    "    model = Model(inputs = input_tensor, outputs = output_tensor)\n",
    "    \n",
    "    \n",
    "#     lr_schedule = keras.optimizers.schedules.ExponentialDecay(\n",
    "#     initial_learning_rate=1e-4,\n",
    "#     decay_steps=20,\n",
    "#     decay_rate=0.3)\n",
    "    \n",
    "    model.compile(\n",
    "        optimizer = tf.keras.optimizers.SGD(learning_rate = 1e-4),\n",
    "        loss='categorical_crossentropy', \n",
    "        metrics=['accuracy'])\n",
    "    return model"
   ]
  },
  {
   "cell_type": "code",
   "execution_count": 9,
   "id": "1ea2002d",
   "metadata": {},
   "outputs": [],
   "source": [
    "model = build_model()"
   ]
  },
  {
   "cell_type": "code",
   "execution_count": 10,
   "id": "356a57d0",
   "metadata": {
    "scrolled": true
   },
   "outputs": [
    {
     "name": "stdout",
     "output_type": "stream",
     "text": [
      "Epoch 1/20\n",
      "71/71 [==============================] - ETA: 0s - loss: 1.0679 - accuracy: 0.4977WARNING:tensorflow:From C:\\Users\\rlope\\anaconda3\\envs\\cbank_env\\lib\\site-packages\\tensorflow\\python\\training\\tracking\\tracking.py:111: Model.state_updates (from tensorflow.python.keras.engine.training) is deprecated and will be removed in a future version.\n",
      "Instructions for updating:\n",
      "This property should not be used in TensorFlow 2.0, as updates are applied automatically.\n",
      "WARNING:tensorflow:From C:\\Users\\rlope\\anaconda3\\envs\\cbank_env\\lib\\site-packages\\tensorflow\\python\\training\\tracking\\tracking.py:111: Layer.updates (from tensorflow.python.keras.engine.base_layer) is deprecated and will be removed in a future version.\n",
      "Instructions for updating:\n",
      "This property should not be used in TensorFlow 2.0, as updates are applied automatically.\n",
      "INFO:tensorflow:Assets written to: ../models/tmp\\checkpoint\\assets\n",
      "71/71 [==============================] - 278s 4s/step - loss: 1.0679 - accuracy: 0.4977 - val_loss: 1.6644 - val_accuracy: 0.2950\n",
      "Epoch 2/20\n",
      "71/71 [==============================] - 257s 4s/step - loss: 0.7056 - accuracy: 0.7268 - val_loss: 1.4882 - val_accuracy: 0.2883\n",
      "Epoch 3/20\n",
      "71/71 [==============================] - ETA: 0s - loss: 0.5216 - accuracy: 0.8579INFO:tensorflow:Assets written to: ../models/tmp\\checkpoint\\assets\n",
      "71/71 [==============================] - 271s 4s/step - loss: 0.5216 - accuracy: 0.8579 - val_loss: 1.3459 - val_accuracy: 0.3417\n",
      "Epoch 4/20\n",
      "71/71 [==============================] - ETA: 0s - loss: 0.4063 - accuracy: 0.9167INFO:tensorflow:Assets written to: ../models/tmp\\checkpoint\\assets\n",
      "71/71 [==============================] - 270s 4s/step - loss: 0.4063 - accuracy: 0.9167 - val_loss: 1.2283 - val_accuracy: 0.4083\n",
      "Epoch 5/20\n",
      "71/71 [==============================] - ETA: 0s - loss: 0.3360 - accuracy: 0.9407INFO:tensorflow:Assets written to: ../models/tmp\\checkpoint\\assets\n",
      "71/71 [==============================] - 270s 4s/step - loss: 0.3360 - accuracy: 0.9407 - val_loss: 1.1616 - val_accuracy: 0.4317\n",
      "Epoch 6/20\n",
      "71/71 [==============================] - 257s 4s/step - loss: 0.2881 - accuracy: 0.9496 - val_loss: 1.1141 - val_accuracy: 0.4317\n",
      "Epoch 7/20\n",
      "71/71 [==============================] - ETA: 0s - loss: 0.2563 - accuracy: 0.9602INFO:tensorflow:Assets written to: ../models/tmp\\checkpoint\\assets\n",
      "71/71 [==============================] - 270s 4s/step - loss: 0.2563 - accuracy: 0.9602 - val_loss: 1.0773 - val_accuracy: 0.4567\n",
      "Epoch 8/20\n",
      "71/71 [==============================] - ETA: 0s - loss: 0.2200 - accuracy: 0.9667INFO:tensorflow:Assets written to: ../models/tmp\\checkpoint\\assets\n",
      "71/71 [==============================] - 274s 4s/step - loss: 0.2200 - accuracy: 0.9667 - val_loss: 1.0012 - val_accuracy: 0.5017\n",
      "Epoch 9/20\n",
      "71/71 [==============================] - ETA: 0s - loss: 0.1954 - accuracy: 0.9716INFO:tensorflow:Assets written to: ../models/tmp\\checkpoint\\assets\n",
      "71/71 [==============================] - 268s 4s/step - loss: 0.1954 - accuracy: 0.9716 - val_loss: 0.9330 - val_accuracy: 0.5750\n",
      "Epoch 10/20\n",
      "71/71 [==============================] - ETA: 0s - loss: 0.1719 - accuracy: 0.9773INFO:tensorflow:Assets written to: ../models/tmp\\checkpoint\\assets\n",
      "71/71 [==============================] - 267s 4s/step - loss: 0.1719 - accuracy: 0.9773 - val_loss: 0.8672 - val_accuracy: 0.5933\n",
      "Epoch 11/20\n",
      "71/71 [==============================] - ETA: 0s - loss: 0.1589 - accuracy: 0.9805INFO:tensorflow:Assets written to: ../models/tmp\\checkpoint\\assets\n",
      "71/71 [==============================] - 267s 4s/step - loss: 0.1589 - accuracy: 0.9805 - val_loss: 0.8017 - val_accuracy: 0.6467\n",
      "Epoch 12/20\n",
      "71/71 [==============================] - ETA: 0s - loss: 0.1457 - accuracy: 0.9811INFO:tensorflow:Assets written to: ../models/tmp\\checkpoint\\assets\n",
      "71/71 [==============================] - 268s 4s/step - loss: 0.1457 - accuracy: 0.9811 - val_loss: 0.7405 - val_accuracy: 0.7050\n",
      "Epoch 13/20\n",
      "71/71 [==============================] - ETA: 0s - loss: 0.1299 - accuracy: 0.9838INFO:tensorflow:Assets written to: ../models/tmp\\checkpoint\\assets\n",
      "71/71 [==============================] - 267s 4s/step - loss: 0.1299 - accuracy: 0.9838 - val_loss: 0.6746 - val_accuracy: 0.7583\n",
      "Epoch 14/20\n",
      "71/71 [==============================] - ETA: 0s - loss: 0.1215 - accuracy: 0.9865INFO:tensorflow:Assets written to: ../models/tmp\\checkpoint\\assets\n",
      "71/71 [==============================] - 268s 4s/step - loss: 0.1215 - accuracy: 0.9865 - val_loss: 0.6108 - val_accuracy: 0.8067\n",
      "Epoch 15/20\n",
      "71/71 [==============================] - ETA: 0s - loss: 0.1082 - accuracy: 0.9905INFO:tensorflow:Assets written to: ../models/tmp\\checkpoint\\assets\n",
      "71/71 [==============================] - 268s 4s/step - loss: 0.1082 - accuracy: 0.9905 - val_loss: 0.5425 - val_accuracy: 0.8533\n",
      "Epoch 16/20\n",
      "71/71 [==============================] - ETA: 0s - loss: 0.1029 - accuracy: 0.9893INFO:tensorflow:Assets written to: ../models/tmp\\checkpoint\\assets\n",
      "71/71 [==============================] - 268s 4s/step - loss: 0.1029 - accuracy: 0.9893 - val_loss: 0.4852 - val_accuracy: 0.8883\n",
      "Epoch 17/20\n",
      "71/71 [==============================] - 257s 4s/step - loss: 0.0990 - accuracy: 0.9911 - val_loss: 0.4473 - val_accuracy: 0.8717\n",
      "Epoch 18/20\n",
      "71/71 [==============================] - ETA: 0s - loss: 0.0947 - accuracy: 0.9907INFO:tensorflow:Assets written to: ../models/tmp\\checkpoint\\assets\n",
      "71/71 [==============================] - 269s 4s/step - loss: 0.0947 - accuracy: 0.9907 - val_loss: 0.4120 - val_accuracy: 0.9033\n",
      "Epoch 19/20\n",
      "71/71 [==============================] - 256s 4s/step - loss: 0.0857 - accuracy: 0.9913 - val_loss: 0.3910 - val_accuracy: 0.8933\n",
      "Epoch 20/20\n",
      "71/71 [==============================] - 256s 4s/step - loss: 0.0810 - accuracy: 0.9929 - val_loss: 0.3757 - val_accuracy: 0.8767\n"
     ]
    }
   ],
   "source": [
    "callback = tf.keras.callbacks.EarlyStopping(monitor='loss', patience=5)\n",
    "checkpoint = tf.keras.callbacks.ModelCheckpoint('../models/tmp/checkpoint', monitor='val_accuracy', save_best_only=True)\n",
    "history = model.fit(norm_train_dataset, validation_data=norm_val_dataset, epochs=20, callbacks=[callback, checkpoint])"
   ]
  },
  {
   "cell_type": "code",
   "execution_count": 11,
   "id": "ec9ab130",
   "metadata": {},
   "outputs": [],
   "source": [
    "model.save('../models/classification_charts/class_model_3classes.h5')"
   ]
  },
  {
   "cell_type": "markdown",
   "id": "a8bc35da",
   "metadata": {},
   "source": [
    "### Check model performance on test set"
   ]
  },
  {
   "cell_type": "code",
   "execution_count": 12,
   "id": "21451982",
   "metadata": {},
   "outputs": [
    {
     "data": {
      "text/plain": [
       "array([[299,   0,   2],\n",
       "       [  0, 290,   7],\n",
       "       [  2,  94, 206]])"
      ]
     },
     "execution_count": 12,
     "metadata": {},
     "output_type": "execute_result"
    }
   ],
   "source": [
    "y_test_predicted = model.predict(norm_test_dataset)\n",
    "\n",
    "predictions = np.array([])\n",
    "labels =  np.array([])\n",
    "\n",
    "for x, y in norm_test_dataset:\n",
    "    predictions = np.concatenate([predictions, np.argmax(model.predict(x), axis=1)])\n",
    "    labels = np.concatenate([labels, np.argmax(y.numpy(), axis=-1)])\n",
    "\n",
    "tf.math.confusion_matrix(labels=labels, predictions=predictions).numpy()"
   ]
  },
  {
   "cell_type": "code",
   "execution_count": 17,
   "id": "2349bf9d",
   "metadata": {},
   "outputs": [
    {
     "data": {
      "text/plain": [
       "0.8833333333333333"
      ]
     },
     "execution_count": 17,
     "metadata": {},
     "output_type": "execute_result"
    }
   ],
   "source": [
    "accuracy_score(labels, predictions) "
   ]
  },
  {
   "cell_type": "markdown",
   "id": "9ae3c0ef",
   "metadata": {},
   "source": [
    "### Use model for inference in a new plot "
   ]
  },
  {
   "cell_type": "code",
   "execution_count": 18,
   "id": "d879bf30",
   "metadata": {},
   "outputs": [
    {
     "name": "stdout",
     "output_type": "stream",
     "text": [
      "['barplot', 'lineplot', 'scatterplot']\n"
     ]
    }
   ],
   "source": [
    "classes = train_dataset.class_names\n",
    "print(classes)"
   ]
  },
  {
   "cell_type": "code",
   "execution_count": 21,
   "id": "765afe8f",
   "metadata": {},
   "outputs": [
    {
     "data": {
      "text/plain": [
       "<matplotlib.image.AxesImage at 0x1e977930ba8>"
      ]
     },
     "execution_count": 21,
     "metadata": {},
     "output_type": "execute_result"
    },
    {
     "data": {
      "image/png": "[encoded data removed]",
      "text/plain": [
       "<Figure size 640x480 with 1 Axes>"
      ]
     },
     "metadata": {},
     "output_type": "display_data"
    }
   ],
   "source": [
    "plot2check = cv2.imread(glob('../dataset/test/barplot/*')[random.randint(0,len('../dataset/test/barplot/*')-1)])\n",
    "plot2check = cv2.cvtColor(plot2check, cv2.COLOR_BGR2RGB)\n",
    "plt.imshow(plot2check)"
   ]
  },
  {
   "cell_type": "code",
   "execution_count": 22,
   "id": "735edab6",
   "metadata": {},
   "outputs": [],
   "source": [
    "def preprocess_chart2check(chart):\n",
    "    chart = chart/255\n",
    "    chart = cv2.resize(chart,(224,224))\n",
    "    return(chart)"
   ]
  },
  {
   "cell_type": "code",
   "execution_count": 23,
   "id": "eaedd0d0",
   "metadata": {},
   "outputs": [],
   "source": [
    "#model = tf.keras.models.load_model(\"../models/classification_charts/class_model_3classes.h5\") ## If model is not loaded\n",
    "plot2check = preprocess_chart2check(plot2check)\n",
    "prediction = model.predict(plot2check.reshape(1,224,224,3))"
   ]
  },
  {
   "cell_type": "code",
   "execution_count": 24,
   "id": "90c6ad56",
   "metadata": {},
   "outputs": [
    {
     "data": {
      "text/plain": [
       "'barplot'"
      ]
     },
     "execution_count": 24,
     "metadata": {},
     "output_type": "execute_result"
    }
   ],
   "source": [
    "classes[np.argmax(prediction)]"
   ]
  }
 ],
 "metadata": {
  "kernelspec": {
   "display_name": "Python 3 (ipykernel)",
   "language": "python",
   "name": "python3"
  },
  "language_info": {
   "codemirror_mode": {
    "name": "ipython",
    "version": 3
   },
   "file_extension": ".py",
   "mimetype": "text/x-python",
   "name": "python",
   "nbconvert_exporter": "python",
   "pygments_lexer": "ipython3",
   "version": "3.7.0"
  }
 },
 "nbformat": 4,
 "nbformat_minor": 5
}
