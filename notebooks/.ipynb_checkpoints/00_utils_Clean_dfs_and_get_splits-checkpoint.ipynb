{
 "cells": [
  {
   "cell_type": "code",
   "execution_count": 1,
   "id": "e40c134d",
   "metadata": {},
   "outputs": [],
   "source": [
    "import pandas as pd\n",
    "import numpy as np"
   ]
  },
  {
   "cell_type": "code",
   "execution_count": null,
   "id": "670795ec",
   "metadata": {},
   "outputs": [],
   "source": [
    "df1_bar = pd.read_json('../dataset/BarPlot1.json')\n",
    "df2_bar = pd.read_json('../dataset/BarPlot2.json')\n",
    "\n",
    "df_bar = df1_bar.append(df2_bar).reset_index().drop(columns=['index'])\n",
    "df_bar['data_split'] = np.nan\n",
    "df_bar['graph_dir'] = np.nan\n",
    "\n",
    "folder_types = ['train','test','validation']\n",
    "for folder_type in folder_types: \n",
    "    charts_in_folder_type = glob('../dataset/'+folder_type+'/barplot/*.png')\n",
    "    for chart in charts_in_folder_type: \n",
    "        chart_index = int(re.findall(r'[0-9]+',chart.split('\\\\')[-1].split('.')[0])[0])\n",
    "        df_bar['data_split'][chart_index] = folder_type\n",
    "        df_bar['graph_dir'][chart_index] = chart       \n",
    "        \n",
    "df_bar.to_csv('../dataset/BarPlot_splitted.csv')"
   ]
  }
 ],
 "metadata": {
  "kernelspec": {
   "display_name": "Python 3 (ipykernel)",
   "language": "python",
   "name": "python3"
  },
  "language_info": {
   "codemirror_mode": {
    "name": "ipython",
    "version": 3
   },
   "file_extension": ".py",
   "mimetype": "text/x-python",
   "name": "python",
   "nbconvert_exporter": "python",
   "pygments_lexer": "ipython3",
   "version": "3.7.0"
  }
 },
 "nbformat": 4,
 "nbformat_minor": 5
}
