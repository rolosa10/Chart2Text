{
 "cells": [
  {
   "cell_type": "markdown",
   "id": "ee591d8a",
   "metadata": {},
   "source": [
    "### Imports "
   ]
  },
  {
   "cell_type": "code",
   "execution_count": 1,
   "id": "5c7e9034",
   "metadata": {},
   "outputs": [],
   "source": [
    "import sys\n",
    "sys.path.append('./models/research/object_detection/')\n",
    "#sys.path.insert(0,'./models/research/object_detection/')\n",
    "#sys.path.insert(0,'./models/official/')"
   ]
  },
  {
   "cell_type": "code",
   "execution_count": 2,
   "id": "fb9f6064",
   "metadata": {},
   "outputs": [],
   "source": [
    "import pandas as pd\n",
    "from glob import glob\n",
    "import shutil\n",
    "import tensorflow as tf\n",
    "import cv2\n",
    "from matplotlib import pyplot as plt\n",
    "import random\n",
    "import os\n",
    "import numpy as np\n",
    "from tensorflow.keras.preprocessing import image_dataset_from_directory\n",
    "from tensorflow.keras.layers import Dense, Input, Dropout\n",
    "from tensorflow.keras.models import Model\n",
    "from tensorflow.keras import applications\n",
    "import re\n",
    "from numba import cuda \n",
    "from object_detection.utils import label_map_util\n",
    "from object_detection.utils import config_util\n",
    "from object_detection.utils import visualization_utils as viz_utils\n",
    "#from object_detection.builders import model_builder"
   ]
  },
  {
   "cell_type": "code",
   "execution_count": 3,
   "id": "972aed23",
   "metadata": {},
   "outputs": [
    {
     "name": "stdout",
     "output_type": "stream",
     "text": [
      "Num GPUs Available:  1\n"
     ]
    }
   ],
   "source": [
    "print(\"Num GPUs Available: \", len(tf.config.list_physical_devices('GPU')))\n",
    "physical_devices = tf.config.list_physical_devices('GPU') \n",
    "for device in physical_devices:\n",
    "    tf.config.experimental.set_memory_growth(device, True)"
   ]
  },
  {
   "cell_type": "markdown",
   "id": "64c802c9",
   "metadata": {},
   "source": [
    "### Load train data and visualize "
   ]
  },
  {
   "cell_type": "code",
   "execution_count": 4,
   "id": "5c0cfabb",
   "metadata": {},
   "outputs": [
    {
     "data": {
      "text/html": [
       "<div>\n",
       "<style scoped>\n",
       "    .dataframe tbody tr th:only-of-type {\n",
       "        vertical-align: middle;\n",
       "    }\n",
       "\n",
       "    .dataframe tbody tr th {\n",
       "        vertical-align: top;\n",
       "    }\n",
       "\n",
       "    .dataframe thead th {\n",
       "        text-align: right;\n",
       "    }\n",
       "</style>\n",
       "<table border=\"1\" class=\"dataframe\">\n",
       "  <thead>\n",
       "    <tr style=\"text-align: right;\">\n",
       "      <th></th>\n",
       "      <th>model</th>\n",
       "      <th>type</th>\n",
       "      <th>general_figure_info</th>\n",
       "      <th>image_index</th>\n",
       "      <th>data_split</th>\n",
       "      <th>graph_dir</th>\n",
       "    </tr>\n",
       "  </thead>\n",
       "  <tbody>\n",
       "    <tr>\n",
       "      <th>0</th>\n",
       "      <td>{'name': 'Percentage of part-time workers in L...</td>\n",
       "      <td>bar_plot</td>\n",
       "      <td>{'title': {'text': 'Percentage of part-time wo...</td>\n",
       "      <td>0</td>\n",
       "      <td>train</td>\n",
       "      <td>../dataset/train/barplot\\Bar0.png</td>\n",
       "    </tr>\n",
       "    <tr>\n",
       "      <th>1</th>\n",
       "      <td>{'name': 'Total debt of Jamaica', 'color': 'k'...</td>\n",
       "      <td>bar_plot</td>\n",
       "      <td>{'title': {'text': 'Total debt of Jamaica', 'b...</td>\n",
       "      <td>1</td>\n",
       "      <td>train</td>\n",
       "      <td>../dataset/train/barplot\\Bar1.png</td>\n",
       "    </tr>\n",
       "    <tr>\n",
       "      <th>2</th>\n",
       "      <td>{'name': 'Arable land in different countries a...</td>\n",
       "      <td>bar_plot</td>\n",
       "      <td>{'title': {'text': 'Arable land in different c...</td>\n",
       "      <td>2</td>\n",
       "      <td>train</td>\n",
       "      <td>../dataset/train/barplot\\Bar2.png</td>\n",
       "    </tr>\n",
       "    <tr>\n",
       "      <th>3</th>\n",
       "      <td>{'name': 'Percentage of households with a fema...</td>\n",
       "      <td>bar_plot</td>\n",
       "      <td>{'title': {'text': 'Percentage of households w...</td>\n",
       "      <td>3</td>\n",
       "      <td>train</td>\n",
       "      <td>../dataset/train/barplot\\Bar3.png</td>\n",
       "    </tr>\n",
       "    <tr>\n",
       "      <th>4</th>\n",
       "      <td>{'name': 'Percentage of people living with HIV...</td>\n",
       "      <td>bar_plot</td>\n",
       "      <td>{'title': {'text': 'Percentage of people livin...</td>\n",
       "      <td>4</td>\n",
       "      <td>train</td>\n",
       "      <td>../dataset/train/barplot\\Bar4.png</td>\n",
       "    </tr>\n",
       "    <tr>\n",
       "      <th>5</th>\n",
       "      <td>{'name': 'Customs and other import duties (as ...</td>\n",
       "      <td>bar_plot</td>\n",
       "      <td>{'title': {'text': 'Customs and other import d...</td>\n",
       "      <td>5</td>\n",
       "      <td>train</td>\n",
       "      <td>../dataset/train/barplot\\Bar5.png</td>\n",
       "    </tr>\n",
       "    <tr>\n",
       "      <th>6</th>\n",
       "      <td>{'name': 'Percentage of full-time male workers...</td>\n",
       "      <td>bar_plot</td>\n",
       "      <td>{'title': {'text': 'Percentage of full-time ma...</td>\n",
       "      <td>6</td>\n",
       "      <td>validation</td>\n",
       "      <td>../dataset/validation/barplot\\Bar6.png</td>\n",
       "    </tr>\n",
       "    <tr>\n",
       "      <th>7</th>\n",
       "      <td>{'name': 'Waste generated by Central Europe', ...</td>\n",
       "      <td>bar_plot</td>\n",
       "      <td>{'title': {'text': 'Waste generated by Central...</td>\n",
       "      <td>7</td>\n",
       "      <td>train</td>\n",
       "      <td>../dataset/train/barplot\\Bar7.png</td>\n",
       "    </tr>\n",
       "    <tr>\n",
       "      <th>8</th>\n",
       "      <td>{'name': 'Percentage of part-time workers in t...</td>\n",
       "      <td>bar_plot</td>\n",
       "      <td>{'title': {'text': 'Percentage of part-time wo...</td>\n",
       "      <td>8</td>\n",
       "      <td>train</td>\n",
       "      <td>../dataset/train/barplot\\Bar8.png</td>\n",
       "    </tr>\n",
       "    <tr>\n",
       "      <th>9</th>\n",
       "      <td>{'name': 'Calories needed to lift the undernou...</td>\n",
       "      <td>bar_plot</td>\n",
       "      <td>{'title': {'text': 'Calories needed to lift th...</td>\n",
       "      <td>9</td>\n",
       "      <td>train</td>\n",
       "      <td>../dataset/train/barplot\\Bar9.png</td>\n",
       "    </tr>\n",
       "  </tbody>\n",
       "</table>\n",
       "</div>"
      ],
      "text/plain": [
       "                                               model      type  \\\n",
       "0  {'name': 'Percentage of part-time workers in L...  bar_plot   \n",
       "1  {'name': 'Total debt of Jamaica', 'color': 'k'...  bar_plot   \n",
       "2  {'name': 'Arable land in different countries a...  bar_plot   \n",
       "3  {'name': 'Percentage of households with a fema...  bar_plot   \n",
       "4  {'name': 'Percentage of people living with HIV...  bar_plot   \n",
       "5  {'name': 'Customs and other import duties (as ...  bar_plot   \n",
       "6  {'name': 'Percentage of full-time male workers...  bar_plot   \n",
       "7  {'name': 'Waste generated by Central Europe', ...  bar_plot   \n",
       "8  {'name': 'Percentage of part-time workers in t...  bar_plot   \n",
       "9  {'name': 'Calories needed to lift the undernou...  bar_plot   \n",
       "\n",
       "                                 general_figure_info  image_index  data_split  \\\n",
       "0  {'title': {'text': 'Percentage of part-time wo...            0       train   \n",
       "1  {'title': {'text': 'Total debt of Jamaica', 'b...            1       train   \n",
       "2  {'title': {'text': 'Arable land in different c...            2       train   \n",
       "3  {'title': {'text': 'Percentage of households w...            3       train   \n",
       "4  {'title': {'text': 'Percentage of people livin...            4       train   \n",
       "5  {'title': {'text': 'Customs and other import d...            5       train   \n",
       "6  {'title': {'text': 'Percentage of full-time ma...            6  validation   \n",
       "7  {'title': {'text': 'Waste generated by Central...            7       train   \n",
       "8  {'title': {'text': 'Percentage of part-time wo...            8       train   \n",
       "9  {'title': {'text': 'Calories needed to lift th...            9       train   \n",
       "\n",
       "                                graph_dir  \n",
       "0       ../dataset/train/barplot\\Bar0.png  \n",
       "1       ../dataset/train/barplot\\Bar1.png  \n",
       "2       ../dataset/train/barplot\\Bar2.png  \n",
       "3       ../dataset/train/barplot\\Bar3.png  \n",
       "4       ../dataset/train/barplot\\Bar4.png  \n",
       "5       ../dataset/train/barplot\\Bar5.png  \n",
       "6  ../dataset/validation/barplot\\Bar6.png  \n",
       "7       ../dataset/train/barplot\\Bar7.png  \n",
       "8       ../dataset/train/barplot\\Bar8.png  \n",
       "9       ../dataset/train/barplot\\Bar9.png  "
      ]
     },
     "execution_count": 4,
     "metadata": {},
     "output_type": "execute_result"
    }
   ],
   "source": [
    "df1 = pd.read_csv('../dataset/v0_BarPlot_splitted.csv').drop(columns=['Unnamed: 0'])\n",
    "df2 = pd.read_csv('../dataset/v0_LinePlot_splitted.csv').drop(columns=['Unnamed: 0'])\n",
    "df3 = pd.read_csv('../dataset/v0_Scatter_splitted.csv').drop(columns=['Unnamed: 0'])\n",
    "df = pd.concat([df1,df2,df3]).reset_index().drop(columns=['index'])\n",
    "df.head(10)"
   ]
  },
  {
   "cell_type": "code",
   "execution_count": 5,
   "id": "cd03c54d",
   "metadata": {},
   "outputs": [],
   "source": [
    "#Select a random train plot\n",
    "random_index = random.randint(0,len(df)-1)\n",
    "selected_chart = df.iloc[random_index]['graph_dir']\n",
    "index_plot = re.findall(r'[0-9]+',selected_chart.split('\\\\')[-1].split('.')[0] )\n",
    "plot_type = re.findall(r'[A-Za-z]+', selected_chart.split('\\\\')[-1].split('.')[0] )\n",
    "\n",
    "if plot_type[0] == 'Bar':\n",
    "    clean_plot_type = 'bar_plot'\n",
    "elif plot_type[0] == 'Line':\n",
    "    clean_plot_type = 'line_plot'\n",
    "else: \n",
    "    clean_plot_type = 'Scatter_plot'"
   ]
  },
  {
   "cell_type": "code",
   "execution_count": 6,
   "id": "2d9ceefa",
   "metadata": {},
   "outputs": [],
   "source": [
    "idx = df[(df['image_index']==int(index_plot[0]))& (df['type']==clean_plot_type)].index[0]\n",
    "d1 = eval(df.iloc[idx]['model'])\n",
    "d2 = eval(df.iloc[idx]['general_figure_info'])"
   ]
  },
  {
   "cell_type": "code",
   "execution_count": 7,
   "id": "aad24512",
   "metadata": {},
   "outputs": [],
   "source": [
    "#d1 = eval(df.iloc[index_plot]['model'][int(index_plot[0])])\n",
    "#d2 = eval(df.iloc[index_plot]['general_figure_info'][int(index_plot[0])])\n",
    "#key_list = ['bbox','bboxes','bar_bboxes']"
   ]
  },
  {
   "cell_type": "markdown",
   "id": "d29f81cc",
   "metadata": {},
   "source": [
    "### Data visualization"
   ]
  },
  {
   "cell_type": "code",
   "execution_count": 8,
   "id": "956e4b80",
   "metadata": {},
   "outputs": [],
   "source": [
    "bbox_and_bboxes_data = []\n",
    "if 'bar_bboxes' in (list(d1.keys())): \n",
    "    bbox_and_bboxes_data.append({'Bar_bboxes':d1['bar_bboxes']})\n",
    "    \n",
    "bbox_and_bboxes_data.append({'title_bbox': d2['title']['bbox']})\n",
    "bbox_and_bboxes_data.append({'x_axis_label_bbox':d2['x_axis']['label']['bbox']})\n",
    "bbox_and_bboxes_data.append({'x_axis_tick_labels_bboxes':d2['x_axis']['tick_labels']['bboxes']})\n",
    "bbox_and_bboxes_data.append({'y_axis_label_bbox':d2['y_axis']['label']['bbox']})\n",
    "bbox_and_bboxes_data.append({'y_axis_tick_labels_bboxes': d2['y_axis']['tick_labels']['bboxes']})"
   ]
  },
  {
   "cell_type": "code",
   "execution_count": 9,
   "id": "fb2feec0",
   "metadata": {
    "scrolled": true
   },
   "outputs": [],
   "source": [
    "chart_array = cv2.imread(selected_chart)\n",
    "y_factor, x_factor = [x/640 for x in chart_array.shape[0:2]]\n",
    "chart_array = cv2.resize(chart_array, (640,640))\n",
    "for element in bbox_and_bboxes_data: \n",
    "    for k,v in element.items(): \n",
    "        if isinstance(element[k],dict):\n",
    "            image = chart_array\n",
    "            start_point = (round(element[k]['x']/x_factor), round(chart_array.shape[0]-element[k]['y']/y_factor))\n",
    "            end_point = (round(element[k]['x']/x_factor + element[k]['w']/x_factor), round((chart_array.shape[0]-element[k]['y']/y_factor)-(element[k]['h']/y_factor)))\n",
    "            color = (255,0,0)\n",
    "            thickness = 3\n",
    "            chart_array = cv2.rectangle(image , start_point, end_point, color, thickness)\n",
    "        elif isinstance(element[k], list):\n",
    "            for sub_element in element[k]: \n",
    "                image = chart_array\n",
    "                start_point = (round(sub_element['x']/x_factor), round(chart_array.shape[0]-sub_element['y']/y_factor))\n",
    "                end_point = (round(sub_element['x']/x_factor + sub_element['w']/x_factor), round((chart_array.shape[0]-sub_element['y']/y_factor)-(sub_element['h']/y_factor)))\n",
    "                color = (255,0,0)\n",
    "                thickness = 3\n",
    "                chart_array = cv2.rectangle(image , start_point, end_point, color, thickness)"
   ]
  },
  {
   "cell_type": "code",
   "execution_count": 14,
   "id": "9f227501",
   "metadata": {},
   "outputs": [
    {
     "data": {
      "text/plain": [
       "<matplotlib.image.AxesImage at 0x1dad12aada0>"
      ]
     },
     "execution_count": 14,
     "metadata": {},
     "output_type": "execute_result"
    }
   ],
   "source": [
    "plt.figure(figsize=(5,5))\n",
    "plt.imshow(chart_array)"
   ]
  },
  {
   "cell_type": "markdown",
   "id": "c45d6534",
   "metadata": {},
   "source": [
    "### Data preprocessing - Prepare data for training\n",
    "We also convert everything to the format that the training loop below expects (e.g., everything converted to tensors, classes converted to one-hot representations, etc.).\n",
    "\n"
   ]
  },
  {
   "cell_type": "code",
   "execution_count": 15,
   "id": "57be2942",
   "metadata": {},
   "outputs": [
    {
     "name": "stderr",
     "output_type": "stream",
     "text": [
      "C:\\Users\\rlope\\anaconda3\\envs\\cbank_env\\lib\\site-packages\\ipykernel_launcher.py:37: SettingWithCopyWarning: \n",
      "A value is trying to be set on a copy of a slice from a DataFrame\n",
      "\n",
      "See the caveats in the documentation: https://pandas.pydata.org/pandas-docs/stable/user_guide/indexing.html#returning-a-view-versus-a-copy\n",
      "C:\\Users\\rlope\\anaconda3\\envs\\cbank_env\\lib\\site-packages\\pandas\\core\\indexing.py:670: SettingWithCopyWarning: \n",
      "A value is trying to be set on a copy of a slice from a DataFrame\n",
      "\n",
      "See the caveats in the documentation: https://pandas.pydata.org/pandas-docs/stable/user_guide/indexing.html#returning-a-view-versus-a-copy\n",
      "  iloc._setitem_with_indexer(indexer, value)\n"
     ]
    }
   ],
   "source": [
    "df['bboxes_resized'] = np.nan\n",
    "for i in range(0,len(df)): \n",
    "    selected_chart = df.iloc[i]['graph_dir']\n",
    "    index_plot = re.findall(r'[0-9]+',selected_chart.split('\\\\')[-1].split('.')[0] )\n",
    "    plot_type = re.findall(r'[A-Za-z]+', selected_chart.split('\\\\')[-1].split('.')[0] )\n",
    "    \n",
    "    d1 = eval(df.iloc[index_plot]['model'][int(index_plot[0])])\n",
    "    d2 = eval(df.iloc[index_plot]['general_figure_info'][int(index_plot[0])])\n",
    "    \n",
    "    bbox_and_bboxes_data = []\n",
    "    if 'bar_bboxes' in (list(d1.keys())): \n",
    "        bbox_and_bboxes_data.append({'Bar_bboxes':d1['bar_bboxes']})\n",
    "\n",
    "    bbox_and_bboxes_data.append({'title_bbox': d2['title']['bbox']})\n",
    "    bbox_and_bboxes_data.append({'x_axis_label_bbox':d2['x_axis']['label']['bbox']})\n",
    "    bbox_and_bboxes_data.append({'x_axis_tick_labels_bboxes':d2['x_axis']['tick_labels']['bboxes']})\n",
    "    bbox_and_bboxes_data.append({'y_axis_label_bbox':d2['y_axis']['label']['bbox']})\n",
    "    bbox_and_bboxes_data.append({'y_axis_tick_labels_bboxes': d2['y_axis']['tick_labels']['bboxes']})\n",
    "    \n",
    "    chart_array = cv2.imread(selected_chart)\n",
    "    y_factor, x_factor = [x/640 for x in chart_array.shape[0:2]]\n",
    "    chart_array = cv2.resize(chart_array, (640,640))\n",
    "    for element in bbox_and_bboxes_data: \n",
    "        for k,v in element.items(): \n",
    "            if isinstance(element[k],dict):\n",
    "                element[k]['x'] = element[k]['x']/x_factor\n",
    "                element[k]['y']= element[k]['y']/y_factor\n",
    "                element[k]['w']= element[k]['w']/x_factor\n",
    "                element[k]['h']= element[k]['h']/y_factor\n",
    "\n",
    "            elif isinstance(element[k], list):\n",
    "                for sub_element in element[k]: \n",
    "                    sub_element['x'] = sub_element['x']/x_factor\n",
    "                    sub_element['y'] = sub_element['y']/y_factor\n",
    "                    sub_element['w'] = sub_element['w']/x_factor\n",
    "                    sub_element['h'] = sub_element['h']/y_factor\n",
    "    df['bboxes_resized'][i] = bbox_and_bboxes_data"
   ]
  },
  {
   "cell_type": "code",
   "execution_count": 16,
   "id": "23ddac5e",
   "metadata": {},
   "outputs": [],
   "source": [
    "num_classes = 6\n",
    "#category_index = {\n",
    "    #'bar_bboxes_id': {'id': 1, 'name': 'bar_bbox'},\n",
    "    #'title_bbox_id': {'id': 2, 'name': 'title_bbox'}, \n",
    "    #'x_axis_label_bbox_id': {'id': 3, 'name': 'x_axis_label_bbox'}, \n",
    "    #'x_axis_tick_label_bbox_id': {'id': 4, 'name': 'x_axis_tick_label_bbox'}, \n",
    "    #'y_axis_label_bbox_id': {'id': 5, 'name': 'y_axis_label_bbox'}, \n",
    "    #'y_axis_tick_label_bbox_id': {'id': 6, 'name': 'y_axis_tick_label_bbox'}\n",
    "    #            }\n",
    "\n",
    "category_mapping = {\n",
    "    'Bar_bboxes':1, \n",
    "    'title_bbox': 2,\n",
    "    'x_axis_label_bbox':3,\n",
    "    'x_axis_tick_labels_bboxes':4,\n",
    "    'y_axis_label_bbox':5,\n",
    "    'y_axis_tick_labels_bboxes':6\n",
    "}"
   ]
  },
  {
   "cell_type": "markdown",
   "id": "7d0b45e3",
   "metadata": {},
   "source": [
    "### Just select train images from barplot in df"
   ]
  },
  {
   "cell_type": "code",
   "execution_count": 17,
   "id": "b9f794ad",
   "metadata": {},
   "outputs": [
    {
     "data": {
      "text/html": [
       "<div>\n",
       "<style scoped>\n",
       "    .dataframe tbody tr th:only-of-type {\n",
       "        vertical-align: middle;\n",
       "    }\n",
       "\n",
       "    .dataframe tbody tr th {\n",
       "        vertical-align: top;\n",
       "    }\n",
       "\n",
       "    .dataframe thead th {\n",
       "        text-align: right;\n",
       "    }\n",
       "</style>\n",
       "<table border=\"1\" class=\"dataframe\">\n",
       "  <thead>\n",
       "    <tr style=\"text-align: right;\">\n",
       "      <th></th>\n",
       "      <th>model</th>\n",
       "      <th>type</th>\n",
       "      <th>general_figure_info</th>\n",
       "      <th>image_index</th>\n",
       "      <th>data_split</th>\n",
       "      <th>graph_dir</th>\n",
       "      <th>bboxes_resized</th>\n",
       "    </tr>\n",
       "  </thead>\n",
       "  <tbody>\n",
       "    <tr>\n",
       "      <th>0</th>\n",
       "      <td>{'name': 'Percentage of part-time workers in L...</td>\n",
       "      <td>bar_plot</td>\n",
       "      <td>{'title': {'text': 'Percentage of part-time wo...</td>\n",
       "      <td>0</td>\n",
       "      <td>train</td>\n",
       "      <td>../dataset/train/barplot\\Bar0.png</td>\n",
       "      <td>[{'Bar_bboxes': [{'x': 56.888482179454186, 'y'...</td>\n",
       "    </tr>\n",
       "    <tr>\n",
       "      <th>1</th>\n",
       "      <td>{'name': 'Total debt of Jamaica', 'color': 'k'...</td>\n",
       "      <td>bar_plot</td>\n",
       "      <td>{'title': {'text': 'Total debt of Jamaica', 'b...</td>\n",
       "      <td>1</td>\n",
       "      <td>train</td>\n",
       "      <td>../dataset/train/barplot\\Bar1.png</td>\n",
       "      <td>[{'Bar_bboxes': [{'x': 112.87059271964931, 'y'...</td>\n",
       "    </tr>\n",
       "    <tr>\n",
       "      <th>2</th>\n",
       "      <td>{'name': 'Arable land in different countries a...</td>\n",
       "      <td>bar_plot</td>\n",
       "      <td>{'title': {'text': 'Arable land in different c...</td>\n",
       "      <td>2</td>\n",
       "      <td>train</td>\n",
       "      <td>../dataset/train/barplot\\Bar2.png</td>\n",
       "      <td>[{'Bar_bboxes': [{'x': 58.51385113159268, 'y':...</td>\n",
       "    </tr>\n",
       "    <tr>\n",
       "      <th>3</th>\n",
       "      <td>{'name': 'Percentage of households with a fema...</td>\n",
       "      <td>bar_plot</td>\n",
       "      <td>{'title': {'text': 'Percentage of households w...</td>\n",
       "      <td>3</td>\n",
       "      <td>train</td>\n",
       "      <td>../dataset/train/barplot\\Bar3.png</td>\n",
       "      <td>[{'Bar_bboxes': [{'x': 56.894606441776254, 'y'...</td>\n",
       "    </tr>\n",
       "    <tr>\n",
       "      <th>4</th>\n",
       "      <td>{'name': 'Percentage of people living with HIV...</td>\n",
       "      <td>bar_plot</td>\n",
       "      <td>{'title': {'text': 'Percentage of people livin...</td>\n",
       "      <td>4</td>\n",
       "      <td>train</td>\n",
       "      <td>../dataset/train/barplot\\Bar4.png</td>\n",
       "      <td>[{'Bar_bboxes': [{'x': 56.88848217945419, 'y':...</td>\n",
       "    </tr>\n",
       "  </tbody>\n",
       "</table>\n",
       "</div>"
      ],
      "text/plain": [
       "                                               model      type  \\\n",
       "0  {'name': 'Percentage of part-time workers in L...  bar_plot   \n",
       "1  {'name': 'Total debt of Jamaica', 'color': 'k'...  bar_plot   \n",
       "2  {'name': 'Arable land in different countries a...  bar_plot   \n",
       "3  {'name': 'Percentage of households with a fema...  bar_plot   \n",
       "4  {'name': 'Percentage of people living with HIV...  bar_plot   \n",
       "\n",
       "                                 general_figure_info  image_index data_split  \\\n",
       "0  {'title': {'text': 'Percentage of part-time wo...            0      train   \n",
       "1  {'title': {'text': 'Total debt of Jamaica', 'b...            1      train   \n",
       "2  {'title': {'text': 'Arable land in different c...            2      train   \n",
       "3  {'title': {'text': 'Percentage of households w...            3      train   \n",
       "4  {'title': {'text': 'Percentage of people livin...            4      train   \n",
       "\n",
       "                           graph_dir  \\\n",
       "0  ../dataset/train/barplot\\Bar0.png   \n",
       "1  ../dataset/train/barplot\\Bar1.png   \n",
       "2  ../dataset/train/barplot\\Bar2.png   \n",
       "3  ../dataset/train/barplot\\Bar3.png   \n",
       "4  ../dataset/train/barplot\\Bar4.png   \n",
       "\n",
       "                                      bboxes_resized  \n",
       "0  [{'Bar_bboxes': [{'x': 56.888482179454186, 'y'...  \n",
       "1  [{'Bar_bboxes': [{'x': 112.87059271964931, 'y'...  \n",
       "2  [{'Bar_bboxes': [{'x': 58.51385113159268, 'y':...  \n",
       "3  [{'Bar_bboxes': [{'x': 56.894606441776254, 'y'...  \n",
       "4  [{'Bar_bboxes': [{'x': 56.88848217945419, 'y':...  "
      ]
     },
     "execution_count": 17,
     "metadata": {},
     "output_type": "execute_result"
    }
   ],
   "source": [
    "df.head(5)"
   ]
  },
  {
   "cell_type": "markdown",
   "id": "6c0d2506",
   "metadata": {},
   "source": [
    "Convert class labels to one-hot; convert everything to tensors.\n",
    "The `label_id_offset` here shifts all classes by a certain number of indices;we do this here so that the model receives one-hot labels where non-background classes start counting at the zeroth index.  This is ordinarily just handled automatically in our training binaries, but we need to reproduce it here.\n"
   ]
  },
  {
   "cell_type": "code",
   "execution_count": 20,
   "id": "2b85264a",
   "metadata": {},
   "outputs": [],
   "source": [
    "#Read train barplot images and resize them to (664,664)\n",
    "train_images_np = []\n",
    "for plot_dir in df[(df['data_split']=='train') & (df['type']=='bar_plot')]['graph_dir']: \n",
    "    train_images_np.append(cv2.resize(cv2.imread(plot_dir),(664,664)))\n",
    "    train_gt_boxes = list(df[(df['data_split']=='train') & (df['type']=='bar_plot')]['bboxes_resized'])\n",
    "\n",
    "def fix_dictionary(dict_):\n",
    "    return { category_mapping.get(k, k): v for k, v in dict_.items() }\n",
    "\n",
    "#Replace category bboxes by integer\n",
    "clean_train_gt_boxes = []\n",
    "for boxes in train_gt_boxes: \n",
    "    image_boxes = []\n",
    "    for spcecific_box in boxes:\n",
    "        image_boxes.append(fix_dictionary(spcecific_box))\n",
    "    clean_train_gt_boxes.append(image_boxes)"
   ]
  },
  {
   "cell_type": "code",
   "execution_count": 21,
   "id": "599b70c6",
   "metadata": {},
   "outputs": [],
   "source": [
    "final_train_gt_bboxes = []\n",
    "final_class_gt_labels = []\n",
    "\n",
    "for graph_data in clean_train_gt_boxes:\n",
    "    new_boxes_list = []\n",
    "    new_class_list = []\n",
    "    for box_class in graph_data: #aixo per tots els boxes\n",
    "        key = list(box_class.keys())[0]\n",
    "        if isinstance(box_class[key],list): #lista diccionarios\n",
    "            for bboxes_list in box_class[key]:\n",
    "                box_np_coords = np.array([[bboxes_list['x'], bboxes_list['y'], bboxes_list['w'], bboxes_list['h']]], dtype=np.float32)\n",
    "                box_class = key\n",
    "\n",
    "                new_boxes_list.append(box_np_coords)\n",
    "                new_class_list.append(box_class)\n",
    "        elif isinstance(box_class[key],dict): #un unico diccionario\n",
    "            box_np_coords = np.array([[box_class[key]['x'], box_class[key]['y'], box_class[key]['w'], box_class[key]['h']]], dtype=np.float32)\n",
    "            box_class = key \n",
    "            new_boxes_list.append(box_np_coords)\n",
    "            new_class_list.append(box_class)\n",
    "            \n",
    "    final_train_gt_bboxes.append(new_boxes_list)\n",
    "    final_class_gt_labels.append(new_class_list)"
   ]
  },
  {
   "cell_type": "code",
   "execution_count": 22,
   "id": "567bc812",
   "metadata": {},
   "outputs": [
    {
     "name": "stdout",
     "output_type": "stream",
     "text": [
      "844\n",
      "844\n",
      "844\n"
     ]
    }
   ],
   "source": [
    "#NOICE\n",
    "print(len(train_images_np))\n",
    "print(len(final_train_gt_bboxes))\n",
    "print(len(final_class_gt_labels))"
   ]
  },
  {
   "cell_type": "code",
   "execution_count": 23,
   "id": "55c50daa",
   "metadata": {},
   "outputs": [],
   "source": [
    "#Convert images to tensors\n",
    "train_image_tensors = []\n",
    "for train_image_np in train_images_np:\n",
    "    train_image_tensors.append(tf.expand_dims(tf.convert_to_tensor(train_image_np, dtype=tf.float32), axis=0)) #tensor (1,664,664,3)"
   ]
  },
  {
   "cell_type": "code",
   "execution_count": null,
   "id": "6319f8ab",
   "metadata": {},
   "outputs": [],
   "source": [
    "#device = cuda.get_current_device()\n",
    "#device.reset()"
   ]
  },
  {
   "cell_type": "code",
   "execution_count": 24,
   "id": "b37ff35b",
   "metadata": {},
   "outputs": [],
   "source": [
    "#Convert boxes to tensors\n",
    "label_id_offset = 1\n",
    "gt_box_tensors = []\n",
    "for gt_box_list in final_train_gt_bboxes: \n",
    "    single_box_tensors = []\n",
    "    for gt_box_np in gt_box_list: \n",
    "        single_box_tensors.append(tf.convert_to_tensor(gt_box_np, dtype=tf.float32))\n",
    "    gt_box_tensors.append(single_box_tensors)"
   ]
  },
  {
   "cell_type": "code",
   "execution_count": 27,
   "id": "f8be6157",
   "metadata": {},
   "outputs": [
    {
     "data": {
      "text/plain": [
       "(1, 4)"
      ]
     },
     "execution_count": 27,
     "metadata": {},
     "output_type": "execute_result"
    }
   ],
   "source": [
    "gt_box_np.shape"
   ]
  },
  {
   "cell_type": "code",
   "execution_count": 44,
   "id": "f9200f58",
   "metadata": {},
   "outputs": [
    {
     "data": {
      "text/plain": [
       "1"
      ]
     },
     "execution_count": 44,
     "metadata": {},
     "output_type": "execute_result"
    }
   ],
   "source": [
    "gt_box_np.shape[0]"
   ]
  },
  {
   "cell_type": "code",
   "execution_count": 43,
   "id": "bc10f132",
   "metadata": {},
   "outputs": [
    {
     "ename": "SyntaxError",
     "evalue": "unexpected EOF while parsing (4026623849.py, line 1)",
     "output_type": "error",
     "traceback": [
      "\u001b[1;36m  File \u001b[1;32m\"C:\\Users\\rlope\\AppData\\Local\\Temp\\ipykernel_13392\\4026623849.py\"\u001b[1;36m, line \u001b[1;32m1\u001b[0m\n\u001b[1;33m    tf.convert_to_tensor(np.ones(shape=[gt_box_np.shape[0]], dtype=np.int32) - label_id_offset\u001b[0m\n\u001b[1;37m                                                                                              ^\u001b[0m\n\u001b[1;31mSyntaxError\u001b[0m\u001b[1;31m:\u001b[0m unexpected EOF while parsing\n"
     ]
    }
   ],
   "source": [
    "tf.convert_to_tensor(np.ones(shape=[gt_box_np.shape[0]], dtype=np.int32) - label_id_offset"
   ]
  },
  {
   "cell_type": "code",
   "execution_count": null,
   "id": "0f1a721c",
   "metadata": {},
   "outputs": [],
   "source": [
    "#Tensor shape (1,6), numpy=array([[1.,0,0,0,0]]) for 1\n",
    "#[[0.1.0]] for 2"
   ]
  },
  {
   "cell_type": "code",
   "execution_count": 57,
   "id": "064a7674",
   "metadata": {
    "scrolled": true
   },
   "outputs": [],
   "source": [
    "num_classes = 6\n",
    "label_id_offset = 1\n",
    "gt_classes_one_hot_tensors = []\n",
    "for classes_list in final_class_gt_labels[0:2]: \n",
    "    just_one_hot_tensor_class = []\n",
    "    for int_label in classes_list: \n",
    "        zero_indexed_groundtruth_classes = tf.convert_to_tensor(np.ones(shape=[gt_box_np.shape[0]], dtype=np.int32) - label_id_offset)\n",
    "        #print(zero_indexed_groundtruth_classes)\n",
    "        just_one_hot_tensor_class.append(tf.one_hot(int_label, num_classes))\n",
    "    gt_classes_one_hot_tensors.append(just_one_hot_tensor_class)"
   ]
  },
  {
   "cell_type": "markdown",
   "id": "0412c951",
   "metadata": {},
   "source": [
    "### Create model and restore weights"
   ]
  },
  {
   "cell_type": "code",
   "execution_count": null,
   "id": "32e411ba",
   "metadata": {},
   "outputs": [],
   "source": []
  },
  {
   "cell_type": "code",
   "execution_count": null,
   "id": "b8425887",
   "metadata": {},
   "outputs": [],
   "source": []
  },
  {
   "cell_type": "code",
   "execution_count": 59,
   "id": "56ec234d",
   "metadata": {},
   "outputs": [
    {
     "name": "stdout",
     "output_type": "stream",
     "text": [
      "Building model and restoring weights for fine-tuning...\n"
     ]
    },
    {
     "ename": "AttributeError",
     "evalue": "module 'tensorflow' has no attribute 'gfile'",
     "output_type": "error",
     "traceback": [
      "\u001b[1;31m---------------------------------------------------------------------------\u001b[0m",
      "\u001b[1;31mAttributeError\u001b[0m                            Traceback (most recent call last)",
      "\u001b[1;32m~\\AppData\\Local\\Temp\\ipykernel_13392\\1043457514.py\u001b[0m in \u001b[0;36m<module>\u001b[1;34m\u001b[0m\n\u001b[0;32m     10\u001b[0m \u001b[1;31m# one (for our new rubber ducky class).\u001b[0m\u001b[1;33m\u001b[0m\u001b[1;33m\u001b[0m\u001b[0m\n\u001b[0;32m     11\u001b[0m \u001b[1;33m\u001b[0m\u001b[0m\n\u001b[1;32m---> 12\u001b[1;33m \u001b[0mconfigs\u001b[0m \u001b[1;33m=\u001b[0m \u001b[0mconfig_util\u001b[0m\u001b[1;33m.\u001b[0m\u001b[0mget_configs_from_pipeline_file\u001b[0m\u001b[1;33m(\u001b[0m\u001b[0mpipeline_config\u001b[0m\u001b[1;33m)\u001b[0m\u001b[1;33m\u001b[0m\u001b[0m\n\u001b[0m\u001b[0;32m     13\u001b[0m \u001b[0mmodel_config\u001b[0m \u001b[1;33m=\u001b[0m \u001b[0mconfigs\u001b[0m\u001b[1;33m[\u001b[0m\u001b[1;34m'model'\u001b[0m\u001b[1;33m]\u001b[0m\u001b[1;33m\u001b[0m\u001b[0m\n\u001b[0;32m     14\u001b[0m \u001b[0mmodel_config\u001b[0m\u001b[1;33m.\u001b[0m\u001b[0mssd\u001b[0m\u001b[1;33m.\u001b[0m\u001b[0mnum_classes\u001b[0m \u001b[1;33m=\u001b[0m \u001b[0mnum_classes\u001b[0m\u001b[1;33m\u001b[0m\u001b[0m\n",
      "\u001b[1;32m~\\anaconda3\\envs\\cbank_env\\lib\\site-packages\\object_detection\\utils\\config_util.py\u001b[0m in \u001b[0;36mget_configs_from_pipeline_file\u001b[1;34m(pipeline_config_path, config_override)\u001b[0m\n\u001b[0;32m     94\u001b[0m   \"\"\"\n\u001b[0;32m     95\u001b[0m   \u001b[0mpipeline_config\u001b[0m \u001b[1;33m=\u001b[0m \u001b[0mpipeline_pb2\u001b[0m\u001b[1;33m.\u001b[0m\u001b[0mTrainEvalPipelineConfig\u001b[0m\u001b[1;33m(\u001b[0m\u001b[1;33m)\u001b[0m\u001b[1;33m\u001b[0m\u001b[0m\n\u001b[1;32m---> 96\u001b[1;33m   \u001b[1;32mwith\u001b[0m \u001b[0mtf\u001b[0m\u001b[1;33m.\u001b[0m\u001b[0mgfile\u001b[0m\u001b[1;33m.\u001b[0m\u001b[0mGFile\u001b[0m\u001b[1;33m(\u001b[0m\u001b[0mpipeline_config_path\u001b[0m\u001b[1;33m,\u001b[0m \u001b[1;34m\"r\"\u001b[0m\u001b[1;33m)\u001b[0m \u001b[1;32mas\u001b[0m \u001b[0mf\u001b[0m\u001b[1;33m:\u001b[0m\u001b[1;33m\u001b[0m\u001b[0m\n\u001b[0m\u001b[0;32m     97\u001b[0m     \u001b[0mproto_str\u001b[0m \u001b[1;33m=\u001b[0m \u001b[0mf\u001b[0m\u001b[1;33m.\u001b[0m\u001b[0mread\u001b[0m\u001b[1;33m(\u001b[0m\u001b[1;33m)\u001b[0m\u001b[1;33m\u001b[0m\u001b[0m\n\u001b[0;32m     98\u001b[0m     \u001b[0mtext_format\u001b[0m\u001b[1;33m.\u001b[0m\u001b[0mMerge\u001b[0m\u001b[1;33m(\u001b[0m\u001b[0mproto_str\u001b[0m\u001b[1;33m,\u001b[0m \u001b[0mpipeline_config\u001b[0m\u001b[1;33m)\u001b[0m\u001b[1;33m\u001b[0m\u001b[0m\n",
      "\u001b[1;31mAttributeError\u001b[0m: module 'tensorflow' has no attribute 'gfile'"
     ]
    }
   ],
   "source": [
    "print('Building model and restoring weights for fine-tuning...', flush=True)\n",
    "num_classes = 6\n",
    "pipeline_config = '../models/object_detection/faster_rcnn_resnet152_v1_640x640_coco17_tpu-8/pipeline.config'\n",
    "checkpoint_path = '../models/object_detection/faster_rcnn_resnet152_v1_640x640_coco17_tpu-8/checkpoint/checkpoint'\n",
    "\n",
    "# Load pipeline config and build a detection model.\n",
    "\n",
    "# Since we are working off of a COCO architecture which predicts 90\n",
    "# class slots by default, we override the `num_classes` field here to be just\n",
    "# one (for our new rubber ducky class).\n",
    "\n",
    "configs = config_util.get_configs_from_pipeline_file(pipeline_config)\n",
    "model_config = configs['model']\n",
    "model_config.ssd.num_classes = num_classes\n",
    "model_config.ssd.freeze_batchnorm = True\n",
    "detection_model = model_builder.build(\n",
    "      model_config=model_config, is_training=True)\n",
    "\n",
    "# Set up object-based checkpoint restore --- RetinaNet has two prediction\n",
    "# `heads` --- one for classification, the other for box regression.  We will\n",
    "# restore the box regression head but initialize the classification head\n",
    "# from scratch (we show the omission below by commenting out the line that\n",
    "# we would add if we wanted to restore both heads)\n",
    "\n",
    "fake_box_predictor = tf.compat.v2.train.Checkpoint(\n",
    "    _base_tower_layers_for_heads=detection_model._box_predictor._base_tower_layers_for_heads,\n",
    "    # _prediction_heads=detection_model._box_predictor._prediction_heads,\n",
    "    #    (i.e., the classification head that we *will not* restore)\n",
    "    _box_prediction_head=detection_model._box_predictor._box_prediction_head,\n",
    "    )\n",
    "fake_model = tf.compat.v2.train.Checkpoint(\n",
    "          _feature_extractor=detection_model._feature_extractor,\n",
    "          _box_predictor=fake_box_predictor)\n",
    "ckpt = tf.compat.v2.train.Checkpoint(model=fake_model)\n",
    "ckpt.restore(checkpoint_path).expect_partial()\n",
    "\n",
    "# Run model through a dummy image so that variables are created\n",
    "image, shapes = detection_model.preprocess(tf.zeros([1, 640, 640, 3]))\n",
    "prediction_dict = detection_model.predict(image, shapes)\n",
    "_ = detection_model.postprocess(prediction_dict, shapes)\n",
    "print('Weights restored!')"
   ]
  },
  {
   "cell_type": "code",
   "execution_count": null,
   "id": "9d679935",
   "metadata": {},
   "outputs": [],
   "source": []
  },
  {
   "cell_type": "code",
   "execution_count": null,
   "id": "ab32c291",
   "metadata": {},
   "outputs": [],
   "source": []
  },
  {
   "cell_type": "code",
   "execution_count": null,
   "id": "263f07c9",
   "metadata": {},
   "outputs": [],
   "source": []
  },
  {
   "cell_type": "code",
   "execution_count": null,
   "id": "8bd576b9",
   "metadata": {},
   "outputs": [],
   "source": []
  },
  {
   "cell_type": "code",
   "execution_count": null,
   "id": "6ada0b66",
   "metadata": {},
   "outputs": [],
   "source": []
  },
  {
   "cell_type": "code",
   "execution_count": null,
   "id": "d4327f62",
   "metadata": {},
   "outputs": [],
   "source": []
  },
  {
   "cell_type": "code",
   "execution_count": null,
   "id": "8808b27e",
   "metadata": {},
   "outputs": [],
   "source": []
  },
  {
   "cell_type": "code",
   "execution_count": null,
   "id": "9a9d0f16",
   "metadata": {},
   "outputs": [],
   "source": []
  },
  {
   "cell_type": "code",
   "execution_count": null,
   "id": "0e73944b",
   "metadata": {},
   "outputs": [],
   "source": [
    "# By convention, our non-background classes start counting at 1.  Given\n",
    "# that we will be predicting just one class, we will therefore assign it a\n",
    "# `class id` of 1.\n",
    "\n",
    "duck_class_id = 1\n",
    "num_classes = 1\n",
    "\n",
    "category_index = {duck_class_id: {'id': duck_class_id, 'name': 'rubber_ducky'}}\n",
    "\n",
    "# Convert class labels to one-hot; convert everything to tensors.\n",
    "# The `label_id_offset` here shifts all classes by a certain number of indices;\n",
    "# we do this here so that the model receives one-hot labels where non-background\n",
    "# classes start counting at the zeroth index.  This is ordinarily just handled\n",
    "# automatically in our training binaries, but we need to reproduce it here.\n",
    "\n",
    "label_id_offset = 1\n",
    "train_image_tensors = []\n",
    "gt_classes_one_hot_tensors = []\n",
    "gt_box_tensors = []\n",
    "for (train_image_np, gt_box_np) in zip(\n",
    "    train_images_np, gt_boxes):\n",
    "    train_image_tensors.append(tf.expand_dims(tf.convert_to_tensor(train_image_np, dtype=tf.float32), axis=0))\n",
    "    gt_box_tensors.append(tf.convert_to_tensor(gt_box_np, dtype=tf.float32))\n",
    "    zero_indexed_groundtruth_classes = tf.convert_to_tensor(np.ones(shape=[gt_box_np.shape[0]], dtype=np.int32) - label_id_offset)\n",
    "    gt_classes_one_hot_tensors.append(tf.one_hot(zero_indexed_groundtruth_classes, num_classes))\n",
    "print('Done prepping data.')"
   ]
  },
  {
   "cell_type": "code",
   "execution_count": 28,
   "id": "7958b47c",
   "metadata": {},
   "outputs": [
    {
     "data": {
      "text/plain": [
       "{'title': {'text': 'Percentage of part-time workers in Luxembourg',\n",
       "  'bbox': {'x': 1154.9027777777778,\n",
       "   'y': 1517.9999999999995,\n",
       "   'w': 995.75,\n",
       "   'h': 42.0}},\n",
       " 'x_axis': {'tick_labels': {'value': ['1991', '1992', '1993', '1994', '1995'],\n",
       "   'bboxes': [{'x': 339.94689713224193,\n",
       "     'y': 73.11111111111116,\n",
       "     'w': 105.75,\n",
       "     'h': 42.0},\n",
       "    {'x': 969.9873374550098, 'y': 73.11111111111116, 'w': 105.625, 'h': 42.0},\n",
       "    {'x': 1599.8402777777776, 'y': 73.11111111111116, 'w': 105.875, 'h': 42.0},\n",
       "    {'x': 2229.8807181005454, 'y': 73.11111111111116, 'w': 105.75, 'h': 42.0},\n",
       "    {'x': 2859.8586584233135,\n",
       "     'y': 73.11111111111116,\n",
       "     'w': 105.75,\n",
       "     'h': 42.0}]},\n",
       "  'ticks_coordinates': {'value': [0, 1, 2, 3, 4],\n",
       "   'bboxes': [{'x': 392.82189713224193, 'y': 134.5555555555556},\n",
       "    {'x': 1022.7998374550098, 'y': 134.5555555555556},\n",
       "    {'x': 1652.7777777777776, 'y': 134.5555555555556},\n",
       "    {'x': 2282.7557181005454, 'y': 134.5555555555556},\n",
       "    {'x': 2912.7336584233135, 'y': 134.5555555555556}]},\n",
       "  'label': {'text': 'Year',\n",
       "   'bbox': {'x': 1608.7152777777778,\n",
       "    'y': 20.000000000000043,\n",
       "    'w': 88.125,\n",
       "    'h': 42.0}}},\n",
       " 'axes_info': {'bbox': {'x': 29.99999999999997,\n",
       "   'y': 30.000000000000043,\n",
       "   'w': 3140.0,\n",
       "   'h': 1539.9999999999995}},\n",
       " 'y_axis': {'tick_labels': {'value': ['0', '2', '4', '6', '8', '10'],\n",
       "   'bboxes': [{'x': 99.61111111111111,\n",
       "     'y': 109.0555555555556,\n",
       "     'w': 26.5,\n",
       "     'h': 42.0},\n",
       "    {'x': 99.73611111111111, 'y': 340.9607817765007, 'w': 26.375, 'h': 42.0},\n",
       "    {'x': 99.61111111111111, 'y': 572.8660079974459, 'w': 26.5, 'h': 42.0},\n",
       "    {'x': 99.61111111111111, 'y': 804.7712342183909, 'w': 26.5, 'h': 42.0},\n",
       "    {'x': 99.48611111111111, 'y': 1036.676460439336, 'w': 26.625, 'h': 42.0},\n",
       "    {'x': 73.11111111111111, 'y': 1268.5816866602813, 'w': 53.0, 'h': 42.0},\n",
       "    {'x': 73.23611111111111,\n",
       "     'y': 1500.4869128812263,\n",
       "     'w': 52.875,\n",
       "     'h': 42.0}]},\n",
       "  'ticks_coordinates': {'value': [0.0, 2.0, 4.0, 6.0, 8.0, 10.0, 12.0],\n",
       "   'bboxes': [{'x': 145.55555555555557, 'y': 134.5555555555556},\n",
       "    {'x': 145.55555555555557, 'y': 366.4607817765007},\n",
       "    {'x': 145.55555555555557, 'y': 598.3660079974459},\n",
       "    {'x': 145.55555555555557, 'y': 830.2712342183909},\n",
       "    {'x': 145.55555555555557, 'y': 1062.176460439336},\n",
       "    {'x': 145.55555555555557, 'y': 1294.0816866602813},\n",
       "    {'x': 145.55555555555557, 'y': 1525.9869128812263}]},\n",
       "  'label': {'text': 'Part-time workers(% of total employed)',\n",
       "   'bbox': {'x': 19.99999999999997,\n",
       "    'y': 411.88194444444434,\n",
       "    'w': 42.00000000000006,\n",
       "    'h': 821.125}}}}"
      ]
     },
     "execution_count": 28,
     "metadata": {},
     "output_type": "execute_result"
    }
   ],
   "source": [
    "df.iloc[0]['general_figure_info'] #title, x_axis_bboxes, y_axis_bboxes, ticks_bboxes, "
   ]
  },
  {
   "cell_type": "code",
   "execution_count": null,
   "id": "a7b0b249",
   "metadata": {},
   "outputs": [],
   "source": []
  },
  {
   "cell_type": "code",
   "execution_count": null,
   "id": "ddac89d2",
   "metadata": {},
   "outputs": [],
   "source": []
  },
  {
   "cell_type": "code",
   "execution_count": null,
   "id": "88e6e96d",
   "metadata": {},
   "outputs": [],
   "source": []
  },
  {
   "cell_type": "code",
   "execution_count": null,
   "id": "1c3fca65",
   "metadata": {},
   "outputs": [],
   "source": []
  },
  {
   "cell_type": "code",
   "execution_count": null,
   "id": "a85139c4",
   "metadata": {},
   "outputs": [],
   "source": []
  },
  {
   "cell_type": "raw",
   "id": "a6f16bb0",
   "metadata": {},
   "source": [
    "#Old code\n",
    "bbox_and_bboxes_data = []\n",
    "def seek_keys(d, key_list):\n",
    "    for k, v in d.items():\n",
    "        if k in key_list:\n",
    "            #print(k + \": \" + str(v))\n",
    "            bbox_and_bboxes_data.append(v)\n",
    "        if isinstance(v, dict):\n",
    "            seek_keys(v, key_list)\n",
    "            \n",
    "seek_keys(d1,key_list) #bar bboxes\n",
    "seek_keys(d2,key_list) #title, x_axis_label, x_axis_tick_labels, axes_info, y_axis_label, y_axis_tick_labels\n",
    "chart_array = cv2.imread(selected_chart)\n",
    "y_factor, x_factor = [x/640 for x in chart_array.shape[0:2]]\n",
    "chart_array = cv2.resize(chart_array, (640,640))\n",
    "for element in bbox_and_bboxes_data:\n",
    "    if isinstance(element,dict): \n",
    "        image = chart_array\n",
    "        start_point = (round(element['x']/x_factor), round(chart_array.shape[0]-element['y']/y_factor))\n",
    "        end_point = (round(element['x']/x_factor + element['w']/x_factor), round((chart_array.shape[0]-element['y']/y_factor)-(element['h']/y_factor)))\n",
    "        color = (255,0,0)\n",
    "        thickness = 3\n",
    "        chart_array = cv2.rectangle(image , start_point, end_point, color, thickness)\n",
    "    elif isinstance(element,list):\n",
    "        for sub_element in element: \n",
    "            image = chart_array\n",
    "            start_point = (round(sub_element['x']/x_factor), round(chart_array.shape[0]-sub_element['y']/y_factor))\n",
    "            try:\n",
    "                end_point = (round(sub_element['x']/x_factor + sub_element['w']/x_factor), round((chart_array.shape[0]-sub_element['y']/y_factor)-(sub_element['h']/y_factor)))\n",
    "            except:\n",
    "                end_point = (round(sub_element['x']/x_factor), round((chart_array.shape[0]-sub_element['y']/y_factor)))\n",
    "                    \n",
    "            color = (255,0,0)\n",
    "            thickness = 3\n",
    "            chart_array = cv2.rectangle(image , start_point, end_point, color, thickness)"
   ]
  }
 ],
 "metadata": {
  "kernelspec": {
   "display_name": "Python 3 (ipykernel)",
   "language": "python",
   "name": "python3"
  },
  "language_info": {
   "codemirror_mode": {
    "name": "ipython",
    "version": 3
   },
   "file_extension": ".py",
   "mimetype": "text/x-python",
   "name": "python",
   "nbconvert_exporter": "python",
   "pygments_lexer": "ipython3",
   "version": "3.7.0"
  }
 },
 "nbformat": 4,
 "nbformat_minor": 5
}
